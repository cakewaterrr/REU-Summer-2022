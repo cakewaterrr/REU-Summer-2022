{
  "nbformat": 4,
  "nbformat_minor": 0,
  "metadata": {
    "colab": {
      "name": "Pytorch (NN?) Linear Regression .ipynb",
      "provenance": [],
      "collapsed_sections": [],
      "authorship_tag": "ABX9TyOI6DgcWW55Cg85qZUQwlio",
      "include_colab_link": true
    },
    "kernelspec": {
      "name": "python3",
      "display_name": "Python 3"
    },
    "language_info": {
      "name": "python"
    }
  },
  "cells": [
    {
      "cell_type": "markdown",
      "metadata": {
        "id": "view-in-github",
        "colab_type": "text"
      },
      "source": [
        "<a href=\"https://colab.research.google.com/github/cakewaterrr/REU-Summer-2022/blob/main/Pytorch_(NN%3F)_Linear_Regression_.ipynb\" target=\"_parent\"><img src=\"https://colab.research.google.com/assets/colab-badge.svg\" alt=\"Open In Colab\"/></a>"
      ]
    },
    {
      "cell_type": "code",
      "execution_count": 15,
      "metadata": {
        "id": "cXk1GACF2a7M"
      },
      "outputs": [],
      "source": [
        "import torch\n",
        "import torch.nn as nn\n",
        "import numpy as np\n",
        "import torch.nn.functional as F\n",
        "from torch.utils.data import TensorDataset\n",
        "from torch.utils.data import DataLoader"
      ]
    },
    {
      "cell_type": "code",
      "source": [
        "# Inputs (Temperature, Rainfall, Humidity)\n",
        "inputs = np.array([[73, 67, 43], [91, 88, 64], [87, 134, 58],\n",
        "                   [102, 43, 37], [69, 96, 70], [73, 67, 43],\n",
        "                   [91, 88, 64], [87, 134, 58], [102, 43, 37],\n",
        "                   [69, 96, 70], [73, 67, 43], [91, 88, 64],\n",
        "                   [87, 134, 58], [102, 43, 37], [69, 96, 70]],\n",
        "                  dtype='float32')\n",
        "\n",
        "# Targets (Apples, Oranges)\n",
        "targets = np.array([[56, 70], [81, 101], [119, 133],\n",
        "                    [22, 37], [103, 119], [56, 70],\n",
        "                    [81, 101], [119, 133], [22, 37],\n",
        "                    [103, 119], [56, 70], [81, 101],\n",
        "                   [119, 133], [22, 37], [103, 119]],\n",
        "                   dtype='float32')\n",
        "\n",
        "inputs = torch.from_numpy(inputs)\n",
        "targets = torch.from_numpy(targets)"
      ],
      "metadata": {
        "id": "-MOruBpn2vUd"
      },
      "execution_count": 7,
      "outputs": []
    },
    {
      "cell_type": "code",
      "source": [
        "# Define dataset\n",
        "train_ds = TensorDataset(inputs, targets)\n",
        "train_ds[0:3]"
      ],
      "metadata": {
        "colab": {
          "base_uri": "https://localhost:8080/"
        },
        "id": "h_ftbnfI4W70",
        "outputId": "5beb6f97-e9f3-476f-de00-4607b9a036c4"
      },
      "execution_count": 8,
      "outputs": [
        {
          "output_type": "execute_result",
          "data": {
            "text/plain": [
              "(tensor([[ 73.,  67.,  43.],\n",
              "         [ 91.,  88.,  64.],\n",
              "         [ 87., 134.,  58.]]), tensor([[ 56.,  70.],\n",
              "         [ 81., 101.],\n",
              "         [119., 133.]]))"
            ]
          },
          "metadata": {},
          "execution_count": 8
        }
      ]
    },
    {
      "cell_type": "code",
      "source": [
        "# Define dataloader\n",
        "batch_size = 5\n",
        "train_dl = DataLoader(train_ds, batch_size, shuffle=True )"
      ],
      "metadata": {
        "id": "JKwCh-I85Lqu"
      },
      "execution_count": 9,
      "outputs": []
    },
    {
      "cell_type": "code",
      "source": [
        "for xb, yb in train_dl:\n",
        "  print(xb)\n",
        "  print(yb)\n",
        "  break"
      ],
      "metadata": {
        "colab": {
          "base_uri": "https://localhost:8080/"
        },
        "id": "Ogdc-I8B5ar_",
        "outputId": "812fc469-a51e-4d75-9ddb-a4106e1a1858"
      },
      "execution_count": 10,
      "outputs": [
        {
          "output_type": "stream",
          "name": "stdout",
          "text": [
            "tensor([[ 73.,  67.,  43.],\n",
            "        [ 87., 134.,  58.],\n",
            "        [ 69.,  96.,  70.],\n",
            "        [ 87., 134.,  58.],\n",
            "        [ 69.,  96.,  70.]])\n",
            "tensor([[ 56.,  70.],\n",
            "        [119., 133.],\n",
            "        [103., 119.],\n",
            "        [119., 133.],\n",
            "        [103., 119.]])\n"
          ]
        }
      ]
    },
    {
      "cell_type": "code",
      "source": [
        "# Define model\n",
        "model = nn.Linear(3, 2)\n",
        "print(model.weight)\n",
        "print(model.bias)"
      ],
      "metadata": {
        "colab": {
          "base_uri": "https://localhost:8080/"
        },
        "id": "5G6MEyMv5lkl",
        "outputId": "e7fc60aa-f5ed-4a51-dd5a-ea5f840c7e70"
      },
      "execution_count": 11,
      "outputs": [
        {
          "output_type": "stream",
          "name": "stdout",
          "text": [
            "Parameter containing:\n",
            "tensor([[ 0.0336,  0.3368, -0.2272],\n",
            "        [ 0.2138, -0.3490, -0.0608]], requires_grad=True)\n",
            "Parameter containing:\n",
            "tensor([-0.0296, -0.1227], requires_grad=True)\n"
          ]
        }
      ]
    },
    {
      "cell_type": "code",
      "source": [
        "# Parameters\n",
        "list(model.parameters())"
      ],
      "metadata": {
        "colab": {
          "base_uri": "https://localhost:8080/"
        },
        "id": "JScxCdDs54vK",
        "outputId": "321370c9-c842-4549-fc05-396a428d42a1"
      },
      "execution_count": 12,
      "outputs": [
        {
          "output_type": "execute_result",
          "data": {
            "text/plain": [
              "[Parameter containing:\n",
              " tensor([[ 0.0336,  0.3368, -0.2272],\n",
              "         [ 0.2138, -0.3490, -0.0608]], requires_grad=True),\n",
              " Parameter containing:\n",
              " tensor([-0.0296, -0.1227], requires_grad=True)]"
            ]
          },
          "metadata": {},
          "execution_count": 12
        }
      ]
    },
    {
      "cell_type": "code",
      "source": [
        "# Generating predictions\n",
        "preds = model(inputs)\n",
        "preds"
      ],
      "metadata": {
        "colab": {
          "base_uri": "https://localhost:8080/"
        },
        "id": "f7duSFFO5-q-",
        "outputId": "b562b9bd-3381-4cb4-9137-1b68c74b5478"
      },
      "execution_count": 14,
      "outputs": [
        {
          "output_type": "execute_result",
          "data": {
            "text/plain": [
              "tensor([[ 15.2207, -10.5156],\n",
              "        [ 18.1278, -15.2735],\n",
              "        [ 34.8517, -31.8192],\n",
              "        [  9.4727,   4.4249],\n",
              "        [ 18.7212, -23.1332],\n",
              "        [ 15.2207, -10.5156],\n",
              "        [ 18.1278, -15.2735],\n",
              "        [ 34.8517, -31.8192],\n",
              "        [  9.4727,   4.4249],\n",
              "        [ 18.7212, -23.1332],\n",
              "        [ 15.2207, -10.5156],\n",
              "        [ 18.1278, -15.2735],\n",
              "        [ 34.8517, -31.8192],\n",
              "        [  9.4727,   4.4249],\n",
              "        [ 18.7212, -23.1332]], grad_fn=<AddmmBackward0>)"
            ]
          },
          "metadata": {},
          "execution_count": 14
        }
      ]
    },
    {
      "cell_type": "code",
      "source": [
        "# Define loss function\n",
        "loss_fn = F.mse_loss\n",
        "\n",
        "loss = loss_fn(model(inputs), targets)\n",
        "loss"
      ],
      "metadata": {
        "colab": {
          "base_uri": "https://localhost:8080/"
        },
        "id": "KyU_QEcI6J6H",
        "outputId": "e81060d0-4b01-4411-ef52-23c30e481b86"
      },
      "execution_count": 17,
      "outputs": [
        {
          "output_type": "execute_result",
          "data": {
            "text/plain": [
              "tensor(8838.7295, grad_fn=<MseLossBackward0>)"
            ]
          },
          "metadata": {},
          "execution_count": 17
        }
      ]
    },
    {
      "cell_type": "code",
      "source": [
        "# Define Optimizer\n",
        "opt = torch.optim.SGD(model.parameters(), lr=1e-5)"
      ],
      "metadata": {
        "id": "HCM-7WdP6g1i"
      },
      "execution_count": 18,
      "outputs": []
    },
    {
      "cell_type": "code",
      "source": [
        "# Training the model\n",
        "\n",
        "def fit(num_epochs, model, loss_fn, opt):\n",
        "  for epoch in range(num_epochs):\n",
        "    # Train with batches of data\n",
        "    for xb, yb in train_dl:\n",
        "      # Generate prediciton\n",
        "      pred = model(xb)\n",
        "      # Calculate Loss\n",
        "      loss = loss_fn(pred, yb)\n",
        "      # Compute Gradients\n",
        "      loss.backward()\n",
        "      # Update Parameters Using Gradients (with statement)\n",
        "      opt.step()\n",
        "      # Reset Gradients to Zero\n",
        "      opt.zero_grad()\n",
        "\n",
        "    # Print Progress\n",
        "    if (epoch+1) % 10 == 0:\n",
        "      print(\"Epoch [{}/{}], Loss: {:.4f}\".format(epoch+1, num_epochs,loss.item()))\n"
      ],
      "metadata": {
        "id": "1vObotBq6qCi"
      },
      "execution_count": 19,
      "outputs": []
    },
    {
      "cell_type": "code",
      "source": [
        "fit(100, model, loss_fn, opt)"
      ],
      "metadata": {
        "colab": {
          "base_uri": "https://localhost:8080/"
        },
        "id": "0Oc2hJTi81pU",
        "outputId": "3ca46b81-41a5-4e5b-e5f9-d50f6c8a2159"
      },
      "execution_count": 20,
      "outputs": [
        {
          "output_type": "stream",
          "name": "stdout",
          "text": [
            "Epoch [10/100], Loss: 822.3975\n",
            "Epoch [20/100], Loss: 276.2852\n",
            "Epoch [30/100], Loss: 79.4109\n",
            "Epoch [40/100], Loss: 65.7780\n",
            "Epoch [50/100], Loss: 170.7250\n",
            "Epoch [60/100], Loss: 7.0810\n",
            "Epoch [70/100], Loss: 8.4119\n",
            "Epoch [80/100], Loss: 65.8302\n",
            "Epoch [90/100], Loss: 26.0233\n",
            "Epoch [100/100], Loss: 49.8058\n"
          ]
        }
      ]
    },
    {
      "cell_type": "code",
      "source": [
        "preds = model(inputs)\n",
        "preds"
      ],
      "metadata": {
        "colab": {
          "base_uri": "https://localhost:8080/"
        },
        "id": "e4hK3Eir9PW6",
        "outputId": "3e851a88-b244-4e10-f3f2-203d2f9f8a29"
      },
      "execution_count": 21,
      "outputs": [
        {
          "output_type": "execute_result",
          "data": {
            "text/plain": [
              "tensor([[ 58.6189,  72.1948],\n",
              "        [ 79.2598,  98.9512],\n",
              "        [124.0754, 134.8058],\n",
              "        [ 28.3567,  47.0225],\n",
              "        [ 92.4685, 110.2133],\n",
              "        [ 58.6189,  72.1948],\n",
              "        [ 79.2598,  98.9512],\n",
              "        [124.0754, 134.8058],\n",
              "        [ 28.3567,  47.0225],\n",
              "        [ 92.4685, 110.2133],\n",
              "        [ 58.6189,  72.1948],\n",
              "        [ 79.2598,  98.9512],\n",
              "        [124.0754, 134.8058],\n",
              "        [ 28.3567,  47.0225],\n",
              "        [ 92.4685, 110.2133]], grad_fn=<AddmmBackward0>)"
            ]
          },
          "metadata": {},
          "execution_count": 21
        }
      ]
    },
    {
      "cell_type": "code",
      "source": [
        "targets"
      ],
      "metadata": {
        "colab": {
          "base_uri": "https://localhost:8080/"
        },
        "id": "oPULNWFd9TKc",
        "outputId": "6b88a651-2d0d-478f-9509-72c003aaa0cd"
      },
      "execution_count": 22,
      "outputs": [
        {
          "output_type": "execute_result",
          "data": {
            "text/plain": [
              "tensor([[ 56.,  70.],\n",
              "        [ 81., 101.],\n",
              "        [119., 133.],\n",
              "        [ 22.,  37.],\n",
              "        [103., 119.],\n",
              "        [ 56.,  70.],\n",
              "        [ 81., 101.],\n",
              "        [119., 133.],\n",
              "        [ 22.,  37.],\n",
              "        [103., 119.],\n",
              "        [ 56.,  70.],\n",
              "        [ 81., 101.],\n",
              "        [119., 133.],\n",
              "        [ 22.,  37.],\n",
              "        [103., 119.]])"
            ]
          },
          "metadata": {},
          "execution_count": 22
        }
      ]
    }
  ]
}